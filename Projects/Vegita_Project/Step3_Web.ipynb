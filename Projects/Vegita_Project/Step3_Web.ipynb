{
 "cells": [
  {
   "cell_type": "markdown",
   "metadata": {},
   "source": [
    "---------\n",
    "# 배추가격 예측 AI Project for 모인활\n",
    "\n",
    "Notes by kjune18@naver.com, Handong Global Univ."
   ]
  },
  {
   "cell_type": "markdown",
   "metadata": {},
   "source": [
    "## 플라스크 웹 서버와 웹 디자인 구현하기"
   ]
  },
  {
   "cell_type": "markdown",
   "metadata": {},
   "source": [
    "1. https://mdbootstrap.com/freebies/ 해당 사이트로 이동한다\n",
    "1. 스크롤을 내려서 Full Page Video Carousel을 다운로드 받아준다.\n",
    "1. full-page-video-carousel만 복사 붙여넣기해서 Vegita Project 폴더에 넣어주고 이름을 Web으로 설정한다.\n",
    "1. Vegita Project 폴더에서 templates 폴더를 새로 만들어 주고, 폴더 안에 index.html파일을 넣어준다.\n",
    "1. Vegita Project 폴더에서 static 폴더를 새로 만들어 주고, 폴더 안에 css, font, img, js, scss (디자인 및 자바스크립트 파일)을 넣어준다.\n",
    "1. Vegita Project 폴더에서 텍스트 파일을 새로 만들어 주고, server.py 파일로 만들어 주고 다른이름으로 저장할때 모든파일 & utf-8로 설정을 바꿔준다.\n",
    "1. 파이썬에 flask가 설치 되어있지 않다면, Flask를 설치해준다.-> pip install flask\n",
    "1. Vegita Project 폴더에서 model 폴더를 새로 만들어 주고, 폴더 안에 학습된 데이터 4개를 붙여넣기 해준다.\n",
    "1. 프롬프트를 열고 해당 경로에서 python server.py 명령어로 web 실행"
   ]
  },
  {
   "cell_type": "markdown",
   "metadata": {},
   "source": [
    "## 참고자료"
   ]
  },
  {
   "cell_type": "markdown",
   "metadata": {},
   "source": [
    "안경잡이개발자\n",
    "https://ndb796.tistory.com/124"
   ]
  }
 ],
 "metadata": {
  "kernelspec": {
   "display_name": "Python 3",
   "language": "python",
   "name": "python3"
  },
  "language_info": {
   "codemirror_mode": {
    "name": "ipython",
    "version": 3
   },
   "file_extension": ".py",
   "mimetype": "text/x-python",
   "name": "python",
   "nbconvert_exporter": "python",
   "pygments_lexer": "ipython3",
   "version": "3.8.3"
  }
 },
 "nbformat": 4,
 "nbformat_minor": 4
}
